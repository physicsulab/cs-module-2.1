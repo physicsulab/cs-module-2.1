{
 "cells": [
  {
   "cell_type": "markdown",
   "metadata": {},
   "source": [
    "# Computational Module 2: Intermediate Python"
   ]
  },
  {
   "cell_type": "markdown",
   "metadata": {},
   "source": [
    "Please complete this notebook by filling in the cells provided.\n",
    "\n",
    "For all problems that you must write our explanations and sentences for, you must provide your answer in the designated space. Moreover, throughout this homework and all future ones, please be sure to not re-assign variables throughout the notebook! For example, if you use <code>max_temperature</code> in your answer to one question, do not reassign it later on.\n",
    "\n",
    "Directly sharing answers with your fellow ULAB colleagues is not okay, but discussing problems with your mentors or them is encouraged. You should start early so that you have time to get help if you're stuck! Drop-in office hours will staffed by ULAB computational scientists will be periodically held; please keep an eye on ULAB Slack for more information."
   ]
  },
  {
   "cell_type": "markdown",
   "metadata": {},
   "source": [
    "## Lesson Plan"
   ]
  },
  {
   "cell_type": "markdown",
   "metadata": {},
   "source": [
    "In this lesson, you will...\n",
    "- be introduced to Python functions and how to create them, and learn about specific variations of functions like lambdas and nested functions\n",
    "- learn some more specifics regarding common data types you might encounter in your project\n",
    "- get some practice with Python shortcuts / tips / tricks, including list comprehensions"
   ]
  },
  {
   "cell_type": "code",
   "execution_count": null,
   "metadata": {},
   "outputs": [],
   "source": [
    "#[[IMPORTANT]change to your name and run this cell! Otherwise grading won't work!\n",
    "%env grade_name='Name'"
   ]
  },
  {
   "cell_type": "code",
   "execution_count": 14,
   "metadata": {},
   "outputs": [],
   "source": [
    "# MAKE SURE TO RUN THIS CELL (It imports the autograder file)\n",
    "!pip install slacker\n",
    "import csModule2"
   ]
  },
  {
   "cell_type": "markdown",
   "metadata": {},
   "source": [
    "## Functions"
   ]
  },
  {
   "cell_type": "markdown",
   "metadata": {},
   "source": [
    "A lot of the time when you're writing long chunks of code, you'll notice that some of the lines seem a bit redundant. Maybe you're changing one number or one string or some particular input at a time, but at the same time, you're not able to use a loop to reduce the number of lines you write because the offending \"repetitive\" lines are far apart from each other. For example, you have a dataset in which all of the columns are in string form, but as you begin analysis on one column, you would like to be able to convert all of the values in it to a different type.\n",
    "\n",
    "In this case, if you are dealing with a <i>Pandas dataframe</i> -- Pandas is a Python library for data science and manipulation, and a dataframe is the standard structure of table storage within Pandas -- a method that can be used to convert column data types follows the general skeleton <code>[column].astype([type])</code> in that if you would like to convert a column assigned to the variable <code>ex_column</code> to <code>int</code> values, you could reassign <code>ex_column</code> to <code>ex_column.astype('int64')</code>.\n",
    "\n",
    "The <code>astype</code> name here represents a function. Just as variables and their data types are the nouns of programming, so functions are the verbs, actions in series of lines that can be performed upon <i>objects</i> (variables, numbers, strings, even other functions, etc.) called <i>parameters</i>. In the previous Module, we went over the basics of what a function is, and explored some built-in functions, as well as the difference between <i>pure</i> and <i>non-pure</i>, a distinguishment based on whether or not the function returns a value. \n",
    "\n",
    "However, functions like <code>astype</code> and <code>print</code> and <code>abs</code> are all built-in functions, and built-in functions have a limited range of capabilities. What if you need to write your own custom function to handle something specific to your needs that a simple import of a library or built-in functions cannot perform on their own?\n",
    "\n",
    "You can define a function in Python using the following basic template:\n",
    "\n",
    "<code>\n",
    "def [function_name](... parameters ...):\n",
    "    [lines of code that may include manipulations using parameter names]\n",
    "    optional: return a value ex. return x\n",
    "</code>\n",
    "\n",
    "Let's walk through what's going on in the block of code above. The Python keyword <code>def</code> signifies the start of a function definition, similar to defining a variable, with <code>[name] = </code> being an analogy to <code>def [function_name]</code>. After the function name, the parameters of the function are listed separated by commas within parentheses. The names of the parameters can be anything, but they should be descriptive placeholders for the values that the programmer expects there to be when the function is called.\n",
    "\n",
    "In the body of the function, which should be indented consistently from the encapsulating definition line, you can include code or calculations that might concern one or more of the parameters passed through. For example, if a parameter to a function <code>square</code> (which will give back the square of <code>n</code>) is <code>n</code>, a line inside the function to calculate the square could be <code>square = n ** 2</code>. Notice that the calculations and lines are all written in terms of the parameters. However, this means that the parameter variable names only have local scope i.e. you can't write <code>print(n)</code> outside the function in which it is defined because the computer won't know what it is. The name <code>n</code> is defined inside <code>square</code> and discarded as soon as the function finishes running.\n",
    "\n",
    "Here's an example of a fully defined function:\n",
    "\n",
    "<code>\n",
    "def n_sum(n):\n",
    "    total = 0\n",
    "    for i in range(1, n + 1):\n",
    "        total += i\n",
    "    print(\"Now we're done!\")\n",
    "    return total\n",
    "</code>\n",
    "\n",
    "What do you think this function does? What will it print for different input values to <code>n</code>?\n",
    "\n",
    "Now, you know how to define a function. But that's not very useful unless you also know how to call it! In fact, calling your own function works in exactly the same way as calling a built-in function or an imported function. If you define the function in the current environment, you can simply call it on some input <i>arguments</i> in the following way: <code>[function_name](... arguments ...)</code>. You will lose that function as soon as you exit the created Python environment (which is why whenever you reopen a Jupyter notebook, the kernel restarts and you have to rerun all of the cells). The cool thing about Jupyter notebook is that you also have the code for your functions saved in cells, which makes rerunning more convenient than copy-pasting within the terminal. However, if your function is in a different file and you want to import it into your Python environment, you can simply run the line <code>import [file_name]</code> and reference the function as <code>[file_name].[function_name](... arguments ...)</code> from then on or (a simpler and recommended method), you can import the function you need specifically from the file: <code>from [file_name] import [function_name]</code> and from then on, the function can be called in the format <code>[function_name](... arguments ...)</code> which is often much more convenient.\n",
    "\n",
    "<b>Note</b>: Also, this little tidbit isn't just relevant to this problem, but it might be useful in terms of shorthand in future ones. When you want to increment a variable, there are two main ways you can go about doing this in Python. Assuming the variable <code>x</code> is something you want to increase by 5, one command is <code>x = x + 5</code> and the other which means the same thing but compresses the number of characters you use is <code>x += 5</code>. Replace 5 with any incrementing number and <code>x</code> with any variable and the template still holds! You can also change the operation to $-$, $*$ or even $/$ if you want to divide in place, for example, and you can replace the positive number with a negative one, or even a float."
   ]
  },
  {
   "cell_type": "markdown",
   "metadata": {},
   "source": [
    "#### Checkpoint 1"
   ]
  },
  {
   "cell_type": "markdown",
   "metadata": {},
   "source": [
    "Write a function <code>find_max_sum</code> that finds the maximum sum of 2 consecutive numbers in a list that is passed as an argument. Assume that the list will contain only positive integers. For example, in the list <code>[3, 4, 2, 5, 4, 6, 1, 1, 2]</code>, your function should return <code>10</code> because the maximum 2-term consecutive sum is $4 + 6 = 10$.\n",
    "\n",
    "Note: If you've heard of this problem or variants thereof before, don't worry about making your code maximally efficient! You just have to get the correct answer given different inputs (think about edge cases that can cause your code to crash)."
   ]
  },
  {
   "cell_type": "code",
   "execution_count": 21,
   "metadata": {},
   "outputs": [],
   "source": [
    "def find_max_sum(lst):\n",
    "    ... # insert your code here"
   ]
  },
  {
   "cell_type": "code",
   "execution_count": null,
   "metadata": {},
   "outputs": [],
   "source": [
    "# autograder cell: do not alter\n",
    "csModule2.checkpoint1(find_max_sum)"
   ]
  },
  {
   "cell_type": "markdown",
   "metadata": {},
   "source": [
    "### Lambdas"
   ]
  },
  {
   "cell_type": "markdown",
   "metadata": {},
   "source": [
    "Let's delve a little deeper into the land of functions. As we learned above, when functions are defined, a they must be assigned to a name. In that way, a function is accessible in the future -- a name is how we reference that some function <code>f</code> in particular should be called.\n",
    "\n",
    "<i>Lambda</i> expressions in Python are a less restrictive / formal way of defining functions. They are essentially shortcuts to defining small, anonymous functions for what are usually one-time calculations. Take a look! Run the code cell below."
   ]
  },
  {
   "cell_type": "code",
   "execution_count": null,
   "metadata": {},
   "outputs": [],
   "source": [
    "# a lambda function!\n",
    "multiplier = lambda x, y: x * y\n",
    "multiplier(4, 5)"
   ]
  },
  {
   "cell_type": "markdown",
   "metadata": {},
   "source": [
    "You might have guessed what would happen here simply from the explicit variable names, but let's walk through the syntax of defining lambdas and exactly what's going on above. \n",
    "\n",
    "In the first line, the name <code>multiplier</code> is assigned to a lambda expression, so we can use this one in future code. Zooming in on the expression, we know a lambda is an anonymous function (you can tell from the fact that it has no name), and this lambda takes 2 parameters <code>x</code> and <code>y</code>, returning their product. Hence, when passing in <code>x = 4</code> and <code>y = 5</code>, we get back $4 * 5 = 20$. \n",
    "\n",
    "However, you may be thinking: why are lambdas useful? Can't you just get the product of 2 numbers by doing this:\n",
    "\n",
    "<code>\n",
    "print(4 * 5)\n",
    "</code>\n",
    "\n",
    "or by doing this:\n",
    "\n",
    "<code>\n",
    "def multiplier(x, y):\n",
    "    return x * y\n",
    "</code>\n",
    "\n",
    "? What's the point?\n",
    "\n",
    "The point is that lambdas are extremely efficient. You can execute powerful one-line statements that without lambdas might take multiple. Try running the code cell below."
   ]
  },
  {
   "cell_type": "code",
   "execution_count": null,
   "metadata": {},
   "outputs": [],
   "source": [
    "# a complicated lambda!\n",
    "sorted(range(-5, 6), key = lambda x: x ** 2)"
   ]
  },
  {
   "cell_type": "markdown",
   "metadata": {},
   "source": [
    "The function <code>sorted</code> is a built-in method that can be executed on Python sequences, including lists and range objects -- <code>range(-5, 6)</code> is a list-like object that includes -5, -4, -3, -2, -1, 0, 1, 2, 3, 4, 5 sequentially. The <code>key</code> parameter while sorting is what helps order the elements of the range, which is why some negative numbers are shown after 0 (they are ordered by their squares, which are larger positive numbers). The ties are broken by placing the positive element after the corresponding negative one.\n",
    "\n",
    "But can you see how lambdas can construct objects quickly based on specified conditions? They're confusing at first, but in certain coding situations can be important and time-saving to understand.\n",
    "\n",
    "The general structure of a lambda resembles the following (and they can be assigned to variables for future reference):\n",
    "\n",
    "lambda [... parameters ...]: [returned expression]\n",
    "\n",
    "Remember that just as in functions, the parameters are comma-separated!\n",
    "\n",
    "Lambdas probably won't be extremely useful while you're working on the data analysis for your project (try to use functions as often as possible, they make your code more readable), but they're an important feature of Python and many other programming languages, an interesting concept in CS in general.\n",
    "\n",
    "<b>Note:</b> Lambdas are single expression functions. After the colon, you may only place what the lambda function will <i>return</i> (might be a <code>None</code> value if you don't want to return anything). However, you may not perform intermediate statements past the colon, including explicit return statements."
   ]
  },
  {
   "cell_type": "markdown",
   "metadata": {},
   "source": [
    "#### Checkpoint 2"
   ]
  },
  {
   "cell_type": "markdown",
   "metadata": {},
   "source": [
    "Assign a lambda function to the variable <code>count_match</code> which returns the number of times an element occurs in an array.\n",
    "\n",
    "<i>Hint</i>: The function <code>count</code> will perform this action like so: <code>[1, 2, 3, 8, 12, 1, 1].count(1)</code> will give <code>3</code>."
   ]
  },
  {
   "cell_type": "code",
   "execution_count": null,
   "metadata": {},
   "outputs": [],
   "source": [
    "count_match = lambda lst, elem: ... # insert your code here\n",
    "count_match([1, 2, 3, 8, 12, 1, 1], 1)"
   ]
  },
  {
   "cell_type": "code",
   "execution_count": null,
   "metadata": {},
   "outputs": [],
   "source": [
    "# autograder cell: do not alter\n",
    "csModule2.checkpoint2(count_match)"
   ]
  },
  {
   "cell_type": "markdown",
   "metadata": {},
   "source": [
    "### Nested Functions"
   ]
  },
  {
   "cell_type": "markdown",
   "metadata": {},
   "source": [
    "A <i>nested function</i> is a function that is defined inside of another function. Often, this is referred to as a type of helper function, performing intermediate calculations before the final result is returned. There are 3 main reasons a programmer may use nested functions in their code:\n",
    "\n",
    "1) <i>Encapsulation</i>. This is an important idea in CS in which individual functions or classes are defined specifically do their own jobs and call each other instead of having one function do the work of multiple. This is a superior way of designing code that increases readability. Encapsulation relates to nested functions specifically because you can have inner functions inside a larger one to protect them from being in global scope, where they might not be necessary and names might conflict or be overwritten. For example:\n",
    "\n",
    "<code>\n",
    "def outer(x, y):\n",
    "    def inner_mult(x, y):\n",
    "        return x * y\n",
    "    return inner_mult(x, y) + inner_mult(x, y)\n",
    "    \n",
    "def inner_mult(x, y):\n",
    "    return x * y\n",
    "</code>\n",
    "\n",
    "Just because another function <code>inner_mult</code> is defined outside the function <code>outer</code> doesn't mean both functions with the same name overwrite each other. The <i>scope</i> of inner_mult is global because it isn't inside another function. Global scope means that you can access the function from any part of your program. However, the scope of the <code>inner_mult</code> is limited to anywhere inside the <code>outer</code> function, which keeps it from being overwritten by the global <code>inner_mult</code>. When <code>outer(4, 5)</code> is called, <code>inner_mult(4, 5) + inner_mult(4, 5)</code> will be returned where <code>inner_mult</code> is the one nested in <code>outer_mult</code>. This is exactly what we expect!\n",
    "\n",
    "2) <i>Abstraction</i>. Say you want to make your function robust and throw errors when an unexpected input is passed through. You can nest a function inside the main function that handles and validates inputs before any operations or calculations are performed. In most cases, you could un-nest this function and widen its scope to global so that you can extend its capabilities to multiple functions, but if a function has special inputs that make it different from the others in your file, nesting might be a good idea. You might have to deal with nesting validation functions when you're cleaning up messy, unformatted data before you begin to apply your astrophysics knowledge!\n",
    "\n",
    "3) <i>Closures</i>. A closure is a situation in which the inner function \"remembers\" the values defined / set in its outer scope when it's called. This might be confusing to conceptualize, so take a look at example below:"
   ]
  },
  {
   "cell_type": "code",
   "execution_count": null,
   "metadata": {},
   "outputs": [],
   "source": [
    "def exponentiate(base):\n",
    "    def inner(exponent):\n",
    "        return base ** exponent\n",
    "    return inner\n",
    "    \n",
    "exp_4 = exponentiate(4) # line 1\n",
    "exp_7 = exponentiate(7) # line 2\n",
    "\n",
    "print(exp_4(3))\n",
    "\n",
    "print(exp_7(2))"
   ]
  },
  {
   "cell_type": "markdown",
   "metadata": {},
   "source": [
    "In the above example, <code>exponentiate</code> is called a factory function because each time it's called, it creates / returns a new function -- a variation of <code>inner</code> in which the base is set to the parameter of <code>exponentiate</code>. \n",
    "\n",
    "Check out the labeled \"line 1\"! Here, we called <code>exponentiate</code> with argument 4 which set the parameter <code>base</code> to 4. The returned value (now <code>exp_4</code>) points to the function <code>inner</code> where <code>base</code> is 4. Similarly, <code>exp_7</code> points to the function <code>inner</code> where <code>base</code> is 7. Hence, when the <code>exp_4</code> or <code>exp_7</code> functions are called, their respective <code>inner</code> functions evaluate <code>base ** exponent</code> with the corresponding known base in mind. This explains why $4^3 = 64$ and $7^2 = 49$."
   ]
  },
  {
   "cell_type": "markdown",
   "metadata": {},
   "source": [
    "#### Checkpoint 3"
   ]
  },
  {
   "cell_type": "markdown",
   "metadata": {},
   "source": [
    "Implement a nested function as a closure inside the function <code>counter</code> where every time you call <code>start</code> with a starting parameter, you return a <i>function</i> that when called with an <code>end</code> parameter will return the product <code>start \\* (start + 1) \\* ... \\* (end - 1) \\* end</code>. For example, if <code>start = 2</code> and <code>end = 5<code>, the program should return 2 \\* 3 \\* 4 \\* 5 = 120."
   ]
  },
  {
   "cell_type": "code",
   "execution_count": null,
   "metadata": {},
   "outputs": [],
   "source": [
    "def partial_factorial(start):\n",
    "    def helper(end):\n",
    "        ...\n",
    "    ...\n",
    "    \n",
    "start_2 = partial_factorial(2)\n",
    "print(start_2(5))"
   ]
  },
  {
   "cell_type": "code",
   "execution_count": null,
   "metadata": {},
   "outputs": [],
   "source": [
    "# autograder cell: do not alter\n",
    "csModule2.checkpoint3(partial_factorial)"
   ]
  },
  {
   "cell_type": "markdown",
   "metadata": {},
   "source": [
    "### Map, Filter, Reduce"
   ]
  },
  {
   "cell_type": "markdown",
   "metadata": {},
   "source": [
    "This subsection is -- for the most part -- tangentially related to the functions content you just learned above. However, we will be going over 3 important built-in functions that can be applied to Python sequences as a whole, evading the for loop syntax that tends to be less efficient as lists grow larger.\n",
    "\n",
    "If you want to know the reasoning behind why loops are time-hungry, you can take a look at some CS 61A and CS 61B content: search for Big O notation and time complexity of programs. In brief, if a sequence as $n$ elements, it will take $n$ time units for a program to make 1 pass over the entire list. This time gets longer and longer as $n \\rightarrow \\infty$ (i.e. for very large datasets). If you want to apply a certain function to every element of the list, this time (the $n$ time units) must be multiplied by the time it takes each function call to execute. This can get unreasonably large very quickly.\n",
    "\n",
    "The functions <code>map</code>, <code>filter</code>, and <code>reduce</code> are meant to subvert this issue! Let's take a closer look.\n",
    "\n",
    "1) <b>Map</b>: The general structure of the <code>map</code> function is the following: <code>map(function_to_apply, sequence)</code>. The function will output a <code>map</code> type object which you can then convert into a list or tuple by simply performing the functions <code>list(...)</code> or <code>tuple(...)</code> upon the object. The resultant sequence will have the same number of elements as the input list, except each corresponding element in the original list will have had the function applied to it. Hence, the resulting list will look like: <code>[func(seq[0]), func(seq[1]), ...]</code>.\n",
    "\n",
    "This might seem a little abstract so let's look at a practical example. Note that the parameter of <code>map</code> <code>function_to_apply</code> must be a function that takes only 1 argument (the current element of the sequence)."
   ]
  },
  {
   "cell_type": "code",
   "execution_count": null,
   "metadata": {},
   "outputs": [],
   "source": [
    "map_ex = range(5, 100, 2)\n",
    "list(map((lambda x: x ** 2), map_ex))"
   ]
  },
  {
   "cell_type": "code",
   "execution_count": null,
   "metadata": {},
   "outputs": [],
   "source": [
    "# the for loop alternative\n",
    "squared_map_ex = []\n",
    "for i in map_ex:\n",
    "    squared_map_ex.append(i ** 2)\n",
    "squared_map_ex"
   ]
  },
  {
   "cell_type": "markdown",
   "metadata": {},
   "source": [
    "In the first line when defining <code>map_ex</code> we assign that name to a range object (a type of Python sequence) in which the first element is 5 and the next elements are progressively incremented by 2 upper bounded by 100 i.e. <code>map_ex = [5, 7, 9, ..., 99]</code>. In the second line, we define a lambda function that returns the square of whatever argument is passed into it. Because the function and <code>map_ex</code> are the parameters of <code>map</code>, the lambda function is applied to all of the elements of <code>map_ex</code>, so the resultant list as printed above consists of the elements $5^2 = 25, 7^2 = 49, ..., 99^2$.\n",
    "\n",
    "We are using a simple example to illustrate the effects of <code>map</code> here, but during data analysis, you can use this to -- perhaps -- combine two columns in a table together according to a physics equation you encountered in a paper.\n",
    "\n",
    "2) <b>Filter</b>: The <code>filter</code> function follows the same general structure (<code>filter(function_to_apply, sequence)</code>) as the <code>map</code> function does, but their jobs are different. As its name implies, <code>filter</code> will filter out the elements in a sequence that do not satisfy a particular condition, and leave the rest behind in the final sequence. Run the code cell below to try this out!"
   ]
  },
  {
   "cell_type": "code",
   "execution_count": null,
   "metadata": {},
   "outputs": [],
   "source": [
    "filter_ex = range(5, 100, 5)\n",
    "list(filter((lambda x: x % 2 == 0), filter_ex))"
   ]
  },
  {
   "cell_type": "code",
   "execution_count": null,
   "metadata": {},
   "outputs": [],
   "source": [
    "# the for loop alternative\n",
    "even_filter_ex = []\n",
    "for i in filter_ex:\n",
    "    if i % 2 == 0:\n",
    "        even_filter_ex.append(i)\n",
    "even_filter_ex"
   ]
  },
  {
   "cell_type": "markdown",
   "metadata": {},
   "source": [
    "In the first line, when we're defining <code>filter_ex</code> we assign that name to a range object that contains elements <code>[5, 10, ..., 95]</code> because the start of the object is at 5, and end is at 100 exclusive, and the skip factor is 5. In the second line, we're defining another lambda function that returns whether or not the argument passed through is even. Note that the function that is passed through as an argument in <code>filter</code> must always return a boolean value i.e. either True or False. Elements that when called with the function return True stay within the filtered list while those that return False are filtered out.\n",
    "\n",
    "The answer that we get here makes sense; only the elements <code>[10, 20, ..., 90]</code> are printed because they are the only multiples of 5 less than 100 that are also divisible by 2. The <code>filter</code> performs the equivalent of essentially writing a loop with a conditional statement inside.\n",
    "\n",
    "3) <b>Reduce</b>: The <code>reduce</code> function is a good alternative to performing a rolling operation on all of the elements in a sequence. Want to multiply all the elements in a list together?"
   ]
  },
  {
   "cell_type": "code",
   "execution_count": null,
   "metadata": {},
   "outputs": [],
   "source": [
    "from functools import reduce\n",
    "reduce_ex = list(range(1, 5))\n",
    "reduce((lambda x, y: x * y), reduce_ex)"
   ]
  },
  {
   "cell_type": "code",
   "execution_count": null,
   "metadata": {},
   "outputs": [],
   "source": [
    "# the for loop alternative\n",
    "mult_reduce_ex = 1 # base value for multiplying (this really depends on the operation you're considering)\n",
    "for i in reduce_ex:\n",
    "    mult_reduce_ex *= i\n",
    "mult_reduce_ex"
   ]
  },
  {
   "cell_type": "markdown",
   "metadata": {},
   "source": [
    "In the case above, the rolling operation is \\*, or multiplication. Note that the lambda function that is passed as the first argument to <code>reduce</code> takes two arguments -- the current list element and the \"next\" one, effectively functioning as the indices <code>i</code> and <code>i + 1</code> in a for loop. We know that <code>reduce_ex</code> is a variable that holds the list value <code>[1, 2, 3, 4]</code>, so what <code>reduce</code> does when this is provided as the second argument is multiply every element in the list together to yield $24$, or $4!$. Note that <code>reduce</code> is not a built-in function and must be imported from a library called <code>functools</code>."
   ]
  },
  {
   "cell_type": "markdown",
   "metadata": {},
   "source": [
    "#### Checkpoint 4"
   ]
  },
  {
   "cell_type": "markdown",
   "metadata": {},
   "source": [
    "You are a librarian and have a nested list of book data in the following format: <code>[book_number, [status, num_checked_out, title, author, category, num_copies, cost], ..., book_number, [status, ...]]</code>. Write a Python program that returns a list with 2-tuples. Each tuple consists of a book number and the product of <code>num_copies</code> and <code>cost</code>.\n",
    "\n",
    "Write a Python program using lambda, map, and the concepts explored in this section."
   ]
  },
  {
   "cell_type": "code",
   "execution_count": null,
   "metadata": {
    "collapsed": true
   },
   "outputs": [],
   "source": [
    "book_data = [\n",
    "    1, [\"checked out\", 3, \"Slaughterhouse Five\", \"Kurt Vonnegut\", \"science fiction\", 3, 10],\n",
    "    2, [\"on shelf\", 2, \"Hunger Games\", \"Suzanne Collins\", \"dystopian\", 5, 11],\n",
    "    3, [\"checked out\", 5, \"Harry Potter and the Philosopher's Stone\", \"J. K. Rowling\", \"fantasy\", 5, 7],\n",
    "    4, [\"on shelf\", 1, \"The Sphere of Secrets\", \"Catherine Fisher\", \"fantasy\", 2, 8],\n",
    "    5, [\"on shelf\", 0, \"The Handmaid's Tale\", \"Margaret Atwood\", \"dystopian\", 2, 7]\n",
    "]\n",
    "\n",
    "... # write your code here\n",
    "\n",
    "final_list = ..."
   ]
  },
  {
   "cell_type": "code",
   "execution_count": null,
   "metadata": {},
   "outputs": [],
   "source": [
    "# autograder cell: do not alter\n",
    "csModule2.checkpoint4(final_list)"
   ]
  },
  {
   "cell_type": "markdown",
   "metadata": {},
   "source": [
    "## Data Type Details"
   ]
  },
  {
   "cell_type": "markdown",
   "metadata": {},
   "source": [
    "In this section, we will dive further into specific data types and various ways in which we can use their specific methods to avoid reinventing the wheel! Loops are useful, but built-in methods are often optimized for speed, especially with large inputs, which you will likely be dealing with during your project."
   ]
  },
  {
   "cell_type": "markdown",
   "metadata": {},
   "source": [
    "### String Concatenation"
   ]
  },
  {
   "cell_type": "markdown",
   "metadata": {},
   "source": [
    "In Python, 2 numbers can be added pretty easily: we know if we type in <code>45 + 2</code>, we'll get 47 back. But what if we wanted to add 2 strings together? Run the code cell below."
   ]
  },
  {
   "cell_type": "code",
   "execution_count": null,
   "metadata": {},
   "outputs": [],
   "source": [
    "# add the strings\n",
    "s1 = \"Hello, \"\n",
    "s2 = \"world!\"\n",
    "\n",
    "s1 + s2"
   ]
  },
  {
   "cell_type": "markdown",
   "metadata": {},
   "source": [
    "Hmm. String addition (or <i>concatenation</i>, which basically means pasting the end of a string onto the beginning of another) is formatted very similarly to regular addition, and because <code>s1</code> and <code>s2</code> are of the same data type, the line doesn't error. The purpose of this functionality might seem a bit frivolous now, but putting some deeper thought into it..."
   ]
  },
  {
   "cell_type": "code",
   "execution_count": null,
   "metadata": {},
   "outputs": [],
   "source": [
    "# user input string concatenation\n",
    "name = input(\"Name: \")\n",
    "major = input(\"Major: \")\n",
    "\n",
    "print(\"Hi! I'm \" + name + \" and I'm a \" + major + \" major at Cal.\")"
   ]
  },
  {
   "cell_type": "markdown",
   "metadata": {},
   "source": [
    "String concatenation can be incredibly useful when trying to reformat data, move it to a new table, or consolidate data to write to files with specific extensions. Remember, however, that you must convert the elements to be concatenated into strings because adding an integer to a string, for example, will throw a TypeError."
   ]
  },
  {
   "cell_type": "code",
   "execution_count": null,
   "metadata": {},
   "outputs": [],
   "source": [
    "# bad concatenation: typerror\n",
    "\n",
    "age = 19\n",
    "\n",
    "print(\"Hi! I'm \" + age + \" years old.\")"
   ]
  },
  {
   "cell_type": "code",
   "execution_count": null,
   "metadata": {},
   "outputs": [],
   "source": [
    "# good concatenation\n",
    "\n",
    "age = 19\n",
    "\n",
    "print(\"Hi! I'm \" + str(age) + \" years old.\")"
   ]
  },
  {
   "cell_type": "markdown",
   "metadata": {},
   "source": [
    "#### Checkpoint 5"
   ]
  },
  {
   "cell_type": "markdown",
   "metadata": {},
   "source": [
    "Let's take a break and play some Mad Libs! Use the string concatenation principles you learned in this section to replace the <code>[part of speech]</code> blocks inside <code>str_w_blanks</code> so that the story reads more smoothly (you can write your own words corresponding to each part of speech in the <code>...</code> parts). When you print <code>final_str</code> there should be no words in square brackets left over!\n",
    "\n",
    "Note that you can pass this checkpoint by just inserting random words; you don't have to use the Disney lyrics if you don't want to."
   ]
  },
  {
   "cell_type": "code",
   "execution_count": null,
   "metadata": {},
   "outputs": [],
   "source": [
    "str_w_blanks = \"\"\"Let's get down to [noun_1], to [verb_1] the [noun_2]\n",
    "Did they send me [noun_3], when I [verb_2] for [noun_4]?\n",
    "You're the [adj_1] [noun_4] I ever met\n",
    "But [pronoun_1] can [verb_3] before we're through\n",
    "[noun_5], I'll [verb_4] a man out of you\"\"\"\n",
    "\n",
    "noun_1 = ...\n",
    "noun_2 = ...\n",
    "noun_3 = ...\n",
    "noun_4 = ...\n",
    "noun_5 = ...\n",
    "\n",
    "verb_1 = ...\n",
    "verb_2 = ...\n",
    "verb_3 = ...\n",
    "verb_4 = ...\n",
    "\n",
    "adj_1 = ...\n",
    "\n",
    "... # insert your code here\n",
    "\n",
    "final_str = ...\n",
    "\n",
    "print(final_str)"
   ]
  },
  {
   "cell_type": "code",
   "execution_count": null,
   "metadata": {},
   "outputs": [],
   "source": [
    "# autograder cell: do not alter\n",
    "csModule2.checkpoint5(final_str)"
   ]
  },
  {
   "cell_type": "markdown",
   "metadata": {},
   "source": [
    "Have you guessed where the original string is from?\n",
    "\n",
    "<i>Hint</i>: In the next section, we'll get down to business! :)"
   ]
  },
  {
   "cell_type": "markdown",
   "metadata": {},
   "source": [
    "### String Formatting"
   ]
  },
  {
   "cell_type": "markdown",
   "metadata": {},
   "source": [
    "An alternative to string concatenation is Python's string formatting capabilities. Instead of having to laboriously think of where to end a component string so that there won't be any extra spaces or commas, string formatting allows programmers to write out the original string format and code replacements into the blank \"spaces\" afterward. See the below code cell!"
   ]
  },
  {
   "cell_type": "code",
   "execution_count": null,
   "metadata": {},
   "outputs": [],
   "source": [
    "num_cats = \"45\"\n",
    "\n",
    "print(\"I have %s cats living in my house!\" % num_cats)"
   ]
  },
  {
   "cell_type": "markdown",
   "metadata": {},
   "source": [
    "The code cell above should print \"I have 45 cats living in my house!\" (by the way, I love cats, but that's way too many). What's going on in that cell though?\n",
    "\n",
    "Notice that in the spot that \"45\" should be in the printed string, there is instead a \"%s\" -- a placeholder for the value (the \"s\" part stands for string, clarifying the data type) that should actually be there. The <code>% num_cats</code> after the string format specifies exactly what value should replace the placeholder.\n",
    "\n",
    "What if you want to replace more than 1 value in a string? This is where tuples come in handy. Look at the code cell here to see how."
   ]
  },
  {
   "cell_type": "code",
   "execution_count": null,
   "metadata": {},
   "outputs": [],
   "source": [
    "num_cats = 45\n",
    "address = \"123 Cleary St.\"\n",
    "\n",
    "print(\"I have %d cats living in my house on %s!\" % (num_cats, address))"
   ]
  },
  {
   "cell_type": "markdown",
   "metadata": {},
   "source": [
    "As you can see from above, we are now using %d along with %s. The %d specifies a numeric data type just as %s can be used for strings (or actually, any other data type: lists, dictionaries, etc.). This is because of a built-in <code>repr</code> method common to all Python data types that allows conversion to string when necessary i.e. before a list can be dropped into the placeholder %s, it is actually converted to a string representation of that list!\n",
    "\n",
    "In the tuple past the % sign, you can include any number of values to replace the placeholders as long as there are the same number of values as placeholders. The first tuple element is matched to the first placeholder, and so on. This explains why the 45 goes into %d and the address is placed in %s, in order."
   ]
  },
  {
   "cell_type": "markdown",
   "metadata": {},
   "source": [
    "#### Checkpoint 6"
   ]
  },
  {
   "cell_type": "markdown",
   "metadata": {},
   "source": [
    "A cool thing about Jupyter notebooks is that you can access the variables defined in previous cells (unless you've redefined them). In this checkpoint, we're going to use the following variables from <b>Checkpoint 5</b> to reimplement Mad Libs but with string formatting to get a better sense of its ease of use.\n",
    "\n",
    "- <code>str_w_blanks</code>\n",
    "- <code>noun_1</code>\n",
    "- <code>noun_2</code>\n",
    "- <code>noun_3</code>\n",
    "- <code>noun_4</code>\n",
    "- <code>noun_5</code>\n",
    "- <code>verb_1</code>\n",
    "- <code>verb_2</code>\n",
    "- <code>verb_3</code>\n",
    "- <code>verb_4</code>\n",
    "- <code>adj_1</code>\n",
    "\n",
    "You can check the correctness of your code as <code>new_final_str</code> in this section should end up looking the same as <code>final_str</code> in <b>Checkpoint 5</b>."
   ]
  },
  {
   "cell_type": "code",
   "execution_count": null,
   "metadata": {},
   "outputs": [],
   "source": [
    "... # insert your code here\n",
    "\n",
    "new_final_str = ...\n",
    "\n",
    "print(new_final_str)"
   ]
  },
  {
   "cell_type": "code",
   "execution_count": null,
   "metadata": {},
   "outputs": [],
   "source": [
    "# autograder cell: do not alter\n",
    "csModule2.checkpoint6(new_final_str)"
   ]
  },
  {
   "cell_type": "markdown",
   "metadata": {},
   "source": [
    "### List Comprehensions"
   ]
  },
  {
   "cell_type": "markdown",
   "metadata": {},
   "source": [
    "So far, we've learned that we can generate lists using the <code>range</code> function, for loops, or while loops. This often takes multiple lines. Analogous to the lambda for functions, list comprehensions are a condensed, efficient method of constructing lists using for loops and conditions for filtering purposes. Try out the code cell below:"
   ]
  },
  {
   "cell_type": "code",
   "execution_count": null,
   "metadata": {},
   "outputs": [],
   "source": [
    "# list constructed by for loop\n",
    "lst_squares = []\n",
    "for i in range(20):\n",
    "    lst_squares += [i ** 2]\n",
    "lst_squares"
   ]
  },
  {
   "cell_type": "markdown",
   "metadata": {},
   "source": [
    "The output above should display a list of 20 elements, all integer squares from $0^2 = 0$ to $19^2 = 361$. We can actually obtain the same list in one line of code using a list comprehension."
   ]
  },
  {
   "cell_type": "code",
   "execution_count": null,
   "metadata": {
    "collapsed": true
   },
   "outputs": [],
   "source": [
    "lst_compr_squares = [i ** 2 for i in range(20)]"
   ]
  },
  {
   "cell_type": "markdown",
   "metadata": {},
   "source": [
    "A list comprehension essentially looks like a rearranged for loop that condenses the entire process! The general form of a list comprehension follows the following format:\n",
    "\n",
    "<code>\n",
    "lst_compr = [[expression to evaluate] if [condition] else [expression for else condition] for [loop index] in [iterable: some sort of sequence]]\n",
    "</code>\n",
    "\n",
    "OR\n",
    "\n",
    "<code>\n",
    "lst_compr = [[expression to evaluate] for [loop index] in [iterable: some sort of sequence] if [condition]]\n",
    "</code>\n",
    "\n",
    "<b>Note</b>: The 2nd format is only valid if there is only an if condition. The 1st format will not work if the else condition is eliminated.\n",
    "\n",
    "An example of all of these components in action is below so you can experiment with different aspects of it."
   ]
  },
  {
   "cell_type": "code",
   "execution_count": null,
   "metadata": {},
   "outputs": [],
   "source": [
    "lst_compr = [i ** 2 if i % 2 == 0 else i ** 3 for i in range(20)]\n",
    "lst_compr"
   ]
  },
  {
   "cell_type": "markdown",
   "metadata": {},
   "source": [
    "The list <code>lst_compr</code> contains 20 elements. The ones at even indices: i = 0, 2, 4, ... are expressed in their square form in the final list. On the other hand, the ones at odd indices: i = 1, 3, 5, ... are expressed in cubic form.\n",
    "\n",
    "Now that you know the basics of list comprehensions, let's do a problem to quiz you on what you've learned!"
   ]
  },
  {
   "cell_type": "markdown",
   "metadata": {},
   "source": [
    "#### Checkpoint 7"
   ]
  },
  {
   "cell_type": "markdown",
   "metadata": {},
   "source": [
    "Create a lambda function called <code>flatten</code> that takes a Python list as its argument and returns the <i>flattened</i> list when <code>flatten</code> is called. By flattened list, we mean that all elements in sublists should just be in the list at depth 1 (not in the sublist). For example, this deep list <code>[[1, 2, 3], [2, 3], [4]]</code> should look like this flattened: <code>[1, 2, 3, 2, 3, 4]</code>. For the sake of simplicity, assume that the list passed through does not have sublists of sublists i.e. does not look something like this: <code>[[1, 2, [3, 4]], 4]</code> and that the elements of your original list to flatten are only lists and not any other data type i.e. 5 all by itself will never be in the list."
   ]
  },
  {
   "cell_type": "code",
   "execution_count": 42,
   "metadata": {},
   "outputs": [
    {
     "data": {
      "text/plain": [
       "[1, 2, 3, 2, 3, 4]"
      ]
     },
     "execution_count": 42,
     "metadata": {},
     "output_type": "execute_result"
    }
   ],
   "source": [
    "flatten = lambda lst: [l[i] for l in lst for i in range(len(l))] # insert your code here\n",
    "\n",
    "flatten([[1, 2, 3], [2, 3], [4]])"
   ]
  },
  {
   "cell_type": "code",
   "execution_count": 44,
   "metadata": {},
   "outputs": [
    {
     "name": "stdout",
     "output_type": "stream",
     "text": [
      "Checkpoint 7 Passed!\n"
     ]
    }
   ],
   "source": [
    "# autograder cell: do not alter\n",
    "csModule2.checkpoint7(flatten)"
   ]
  },
  {
   "cell_type": "markdown",
   "metadata": {},
   "source": [
    "### List-specific Methods"
   ]
  },
  {
   "cell_type": "markdown",
   "metadata": {},
   "source": [
    "Python has some list-specific methods that can help you shortcut common operations performed upon lists, like adding, removing, etc. Here are a few list methods you might find useful in your data analysis! You may use the code cells provided as a playground to experiment with edge cases to understand the functions better.\n",
    "\n",
    "The first cell includes the list we will be using during our explorations of this topic!"
   ]
  },
  {
   "cell_type": "code",
   "execution_count": null,
   "metadata": {
    "collapsed": true
   },
   "outputs": [],
   "source": [
    "# our original list\n",
    "\n",
    "lst = [5, 8.0, 88.3, \"sparkles\", [\"blue\", \"green\", 'y', 5]]"
   ]
  },
  {
   "cell_type": "code",
   "execution_count": null,
   "metadata": {},
   "outputs": [],
   "source": [
    "# the append function\n",
    "\n",
    "lst.append(\"cats\")\n",
    "lst"
   ]
  },
  {
   "cell_type": "code",
   "execution_count": null,
   "metadata": {},
   "outputs": [],
   "source": [
    "# the extend function\n",
    "\n",
    "lst.extend([\"cats\", \"dogs\", 15])\n",
    "lst"
   ]
  },
  {
   "cell_type": "markdown",
   "metadata": {},
   "source": [
    "The major difference between the oft-confused <code>append</code> and <code>extend</code> is that the latter takes a sequence as its argument and individually takes each element of the sequence and concatenates it to the original list. If you were appending a sequence $s$, $s$ would just end up pasted as <code>lst</code>'s last element, a whole sequence together. However, by extending <code>lst</code> by $s$, $s[0]$, $s[1]$, and so on will be individually concatenated to <code>lst</code>."
   ]
  },
  {
   "cell_type": "code",
   "execution_count": null,
   "metadata": {},
   "outputs": [],
   "source": [
    "# the insert function: inserts \"sunshine\" at index 2\n",
    "\n",
    "lst.insert(2, \"sunshine\")\n",
    "lst"
   ]
  },
  {
   "cell_type": "code",
   "execution_count": null,
   "metadata": {},
   "outputs": [],
   "source": [
    "# the remove function: removes an element from the lst\n",
    "\n",
    "lst.remove(88.3)\n",
    "lst"
   ]
  },
  {
   "cell_type": "code",
   "execution_count": null,
   "metadata": {},
   "outputs": [],
   "source": [
    "# the count function: returns the number of times an element occurs in the lst\n",
    "\n",
    "lst.count(5)"
   ]
  },
  {
   "cell_type": "code",
   "execution_count": null,
   "metadata": {},
   "outputs": [],
   "source": [
    "# the pop function: pops off the last element from the lst\n",
    "\n",
    "lst.pop()\n",
    "lst"
   ]
  },
  {
   "cell_type": "code",
   "execution_count": null,
   "metadata": {},
   "outputs": [],
   "source": [
    "# the reverse function\n",
    "\n",
    "lst.reverse()\n",
    "lst"
   ]
  },
  {
   "cell_type": "code",
   "execution_count": null,
   "metadata": {},
   "outputs": [],
   "source": [
    "# the sort function: sorts the list (bad)\n",
    "\n",
    "lst.sort()\n",
    "lst"
   ]
  },
  {
   "cell_type": "markdown",
   "metadata": {},
   "source": [
    "Notice that there's a TypeError when you run the cell above. This is because Python's list sort function is only capable of sorting lists in which all of the elements are numeric values. Let's use a different list to experiment with sort."
   ]
  },
  {
   "cell_type": "code",
   "execution_count": null,
   "metadata": {},
   "outputs": [],
   "source": [
    "# the sort function: sorts the list (good)\n",
    "\n",
    "lst_alt = [3, 5, 2, 8, 8, 1, 1, 1, 2]\n",
    "lst_alt.sort()\n",
    "lst_alt"
   ]
  },
  {
   "cell_type": "markdown",
   "metadata": {},
   "source": [
    "Because duplicates are tied in terms of position, they are simply placed next to each other in the resultant sorted list."
   ]
  },
  {
   "cell_type": "markdown",
   "metadata": {},
   "source": [
    "#### Checkpoint 8"
   ]
  },
  {
   "cell_type": "markdown",
   "metadata": {},
   "source": [
    "Perform a few basic operations on the list below by following the listed directions in order.\n",
    "\n",
    "1. Remove the last element.\n",
    "2. Remove all elements that not numeric in type.\n",
    "3. Insert 44 at position 2 and 4 at position 1.\n",
    "4. Count how many times 4 occurs in the list.\n",
    "5. Sort the list in descending order.\n",
    "\n",
    "How does <code>original_lst</code> look like at the end?"
   ]
  },
  {
   "cell_type": "code",
   "execution_count": null,
   "metadata": {},
   "outputs": [],
   "source": [
    "original_lst = [4, 2.0, 88, \"staircase\", 5 / 6, 42, [\"blue\", \"pineapples\", 3], {\"straw\": \"man\", \"4\": \"trees\"}]\n",
    "\n",
    "# operation 1\n",
    "\n",
    "# operation 2\n",
    "\n",
    "# operation 3\n",
    "\n",
    "# operation 4\n",
    "\n",
    "# operation 5\n",
    "\n",
    "original_lst"
   ]
  },
  {
   "cell_type": "code",
   "execution_count": null,
   "metadata": {},
   "outputs": [],
   "source": [
    "# autograder cell: do not alter\n",
    "csModule2.checkpoint8(original_lst)"
   ]
  },
  {
   "cell_type": "code",
   "execution_count": null,
   "metadata": {},
   "outputs": [],
   "source": [
    "csModule2.test_all(find_max_sum, count_match, partial_factorial, final_list, final_str, new_final_str,\n",
    "                  flatten, original_lst)"
   ]
  },
  {
   "cell_type": "markdown",
   "metadata": {},
   "source": [
    "## Summary"
   ]
  },
  {
   "cell_type": "markdown",
   "metadata": {},
   "source": [
    "In this lesson we learned...\n",
    "- what functions, lambdas, and nested functions are, and how to create them\n",
    "- more about Python data structures, specifically lists, strings, and dictionaries, and intricacies about formatting them or type-specific methods\n",
    "- how to construct lists concisely using list comprehensions\n",
    "- how to use the <code>map</code>, <code>filter</code>, and <code>reduce</code> functions to avoid running too many / nested for loops\n",
    "\n",
    "Things to look forward to...\n",
    "- using dictionary-specific methods\n",
    "- Making graphs in Python (the deepest of rabbit holes!)\n",
    "- science applications! First up: exoplanets. If you have any requests for applications, send a Slack message to Arjun Savel! Other plans include gravitational waves, relations between black holes and galaxies, and (hopefully) the Event Horizon Telescope data."
   ]
  },
  {
   "cell_type": "code",
   "execution_count": null,
   "metadata": {},
   "outputs": [],
   "source": []
  }
 ],
 "metadata": {
  "kernelspec": {
   "display_name": "Python 3",
   "language": "python",
   "name": "python3"
  },
  "language_info": {
   "codemirror_mode": {
    "name": "ipython",
    "version": 3
   },
   "file_extension": ".py",
   "mimetype": "text/x-python",
   "name": "python",
   "nbconvert_exporter": "python",
   "pygments_lexer": "ipython3",
   "version": "3.7.1"
  }
 },
 "nbformat": 4,
 "nbformat_minor": 2
}
